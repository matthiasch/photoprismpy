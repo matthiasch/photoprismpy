{
 "cells": [
  {
   "cell_type": "code",
   "execution_count": 1,
   "metadata": {},
   "outputs": [],
   "source": [
    "%load_ext autoreload\n",
    "%autoreload 2"
   ]
  },
  {
   "cell_type": "code",
   "execution_count": 2,
   "metadata": {},
   "outputs": [],
   "source": [
    "import sys\n",
    "import os\n",
    "\n",
    "\n",
    "def add_to_syspath(path: str):\n",
    "    for p in sys.path:\n",
    "        if p == path:\n",
    "            return\n",
    "    sys.path.append(path)\n",
    "\n",
    "\n",
    "# upper folder\n",
    "add_to_syspath('../')"
   ]
  },
  {
   "cell_type": "code",
   "execution_count": 3,
   "metadata": {},
   "outputs": [],
   "source": [
    "from photoprism_client import ApiClient\n",
    "from photoprism_client import Configuration\n",
    "from photoprism_client import AlbumsApi\n",
    "from photoprism_client import PhotosApi\n",
    "from photoprism_client import FacesApi"
   ]
  },
  {
   "cell_type": "markdown",
   "metadata": {},
   "source": [
    "# Custom Authentification\n",
    "- create config.json file\n",
    "    ```\n",
    "    {\n",
    "        \"host\": \"https://hostname\",\n",
    "        \"username\": \"USER\",\n",
    "        \"my_ca\": \"ca.crt\",\n",
    "        \"auth_key\": \"123456-123456-123456-123456\"\n",
    "    }\n",
    "    ```"
   ]
  },
  {
   "cell_type": "code",
   "execution_count": null,
   "metadata": {},
   "outputs": [],
   "source": [
    "import json\n",
    "try:\n",
    "    with open('config.json') as f:\n",
    "        config = json.load(f)\n",
    "        host = config['host']\n",
    "        username = config['username']\n",
    "        my_ca = config['my_ca']\n",
    "        auth_header = \"X-Auth-Token\"\n",
    "        auth_key = config['auth_key']\n",
    "\n",
    "    print('using custom config')\n",
    "except Exception as e:\n",
    "    # same as using photoprism_client.ApiClient()\n",
    "    host = 'https://demo.photoprism.app'\n",
    "    username = 'demo'\n",
    "    my_ca = None\n",
    "    auth_header = \"X-Auth-Token\"\n",
    "    auth_key = '123456-123456-123456-123456'\n",
    "    print('using default config')"
   ]
  },
  {
   "cell_type": "code",
   "execution_count": 5,
   "metadata": {},
   "outputs": [],
   "source": [
    "import photoprism_client\n",
    "from photoprism_client.rest import ApiException\n",
    "from pprint import pprint\n",
    "\n",
    "# Defining the host is optional and defaults to http://demo.photoprism.app\n",
    "# See configuration.py for a list of all supported configuration parameters.\n",
    "configuration = photoprism_client.Configuration(\n",
    "    host=host,\n",
    "    username=username,\n",
    "    ssl_ca_cert=my_ca\n",
    ")\n"
   ]
  },
  {
   "cell_type": "code",
   "execution_count": null,
   "metadata": {},
   "outputs": [],
   "source": [
    "# Enter a context with an instance of the API client\n",
    "with photoprism_client.ApiClient(configuration,\n",
    "                                 header_name=auth_header,\n",
    "                                 header_value=auth_key) as api_client:\n",
    "    # Create an instance of the API class\n",
    "    albums = photoprism_client.AlbumsApi(api_client)\n",
    "\n",
    "    for album in albums.search_albums(count=5):\n",
    "        print(album.uid, album.path)"
   ]
  },
  {
   "cell_type": "code",
   "execution_count": 7,
   "metadata": {},
   "outputs": [],
   "source": [
    "\n",
    "albums_by_path = albums.search_albums(count=100000)\n"
   ]
  },
  {
   "cell_type": "code",
   "execution_count": null,
   "metadata": {},
   "outputs": [],
   "source": [
    "import os\n",
    "group = {}\n",
    "\n",
    "for photo in albums_by_path:\n",
    "    paths = photo.path.split('/')\n",
    "\n",
    "    try:\n",
    "        if len(paths) > 1:\n",
    "            group[paths[0]] += [paths[1]]\n",
    "\n",
    "    except:\n",
    "        if len(paths) > 1:\n",
    "            group[paths[0]] = [paths[1]]\n",
    "        else:\n",
    "            group[paths[0]] = []\n",
    "\n",
    "# print folder structure of albums\n",
    "for k in group:\n",
    "    print(k)\n",
    "    print(' - '+'\\n - '.join(set(group[k])))"
   ]
  },
  {
   "cell_type": "code",
   "execution_count": null,
   "metadata": {},
   "outputs": [],
   "source": [
    "# Enter a context with an instance of the API client\n",
    "with photoprism_client.ApiClient(configuration,\n",
    "                                 header_name=auth_header,\n",
    "                                 header_value=auth_key) as api_client:\n",
    "    # Create an instance of the API class\n",
    "    api_instance = photoprism_client.PhotosApi(api_client)\n",
    "    photos = photoprism_client.FormSelection()  # FormSelection | Photo Selection\n",
    "\n",
    "    for photo in api_instance.search_photos(count=5, quality=1,\n",
    "                                            q=f'{username} country:\"jp|us\"' if not username == 'demo' else None\n",
    "                                            ):\n",
    "        print(photo.file_name, photo.path, photo.uid)"
   ]
  },
  {
   "cell_type": "code",
   "execution_count": null,
   "metadata": {},
   "outputs": [],
   "source": [
    "\n",
    "\n",
    "# Enter a context with an instance of the API client\n",
    "with photoprism_client.ApiClient(configuration,\n",
    "                                 header_name=auth_header,\n",
    "                                 header_value=auth_key) as api_client:\n",
    "    # Create an instance of the API class\n",
    "    api_instance = photoprism_client.AlbumsApi(api_client)\n",
    "    uid = 'uid_does_not_exist'  # str | Album UID\n",
    "    photos = photoprism_client.FormSelection()  # FormSelection | Photo Selection\n",
    "    photos.photos = [\n",
    "        'pskk05176wjvrd9p', 'pskk0o2959k7pixn',\n",
    "        'pslit7ifzljmbfes',\n",
    "        ]\n",
    "    album_form = photoprism_client.FormAlbum()\n",
    "    album_form.title = 'api_test'\n",
    "    try:\n",
    "        album = api_instance.create_album(album_form)\n",
    "        uid = album.uid\n",
    "        # adds photos to an album\n",
    "        api_response = api_instance.add_photos_to_album(uid, photos)\n",
    "        print(\"The response of AlbumsApi->add_photos_to_album:\\n\")\n",
    "        pprint(api_response)\n",
    "    except ApiException as e:\n",
    "        print(\"Exception when calling AlbumsApi->add_photos_to_album: %s\\n\" % e)"
   ]
  }
 ],
 "metadata": {
  "kernelspec": {
   "display_name": "pytorch2-gnn",
   "language": "python",
   "name": "python3"
  },
  "language_info": {
   "codemirror_mode": {
    "name": "ipython",
    "version": 3
   },
   "file_extension": ".py",
   "mimetype": "text/x-python",
   "name": "python",
   "nbconvert_exporter": "python",
   "pygments_lexer": "ipython3",
   "version": "3.10.14"
  }
 },
 "nbformat": 4,
 "nbformat_minor": 2
}
